{
 "cells": [
  {
   "cell_type": "code",
   "execution_count": null,
   "id": "italian-practice",
   "metadata": {
    "ExecuteTime": {
     "end_time": "2021-04-08T01:10:27.214095Z",
     "start_time": "2021-04-08T01:10:21.503642Z"
    }
   },
   "outputs": [],
   "source": [
    "from xinet import utils\n",
    "from xinet import tensorflow as xinet\n",
    "\n",
    "np = xinet.np\n",
    "nn = xinet.nn"
   ]
  },
  {
   "cell_type": "code",
   "execution_count": null,
   "id": "virgin-boutique",
   "metadata": {
    "ExecuteTime": {
     "end_time": "2021-04-08T01:10:42.175256Z",
     "start_time": "2021-04-08T01:10:39.134102Z"
    },
    "scrolled": true
   },
   "outputs": [],
   "source": [
    "x = np.arange(4, dtype=np.float32).reshape((-1, 1))\n",
    "x"
   ]
  },
  {
   "cell_type": "code",
   "execution_count": null,
   "id": "greek-assistant",
   "metadata": {
    "ExecuteTime": {
     "end_time": "2021-04-08T01:11:22.094346Z",
     "start_time": "2021-04-08T01:11:22.086350Z"
    }
   },
   "outputs": [],
   "source": [
    "import tensorflow as tf"
   ]
  },
  {
   "cell_type": "code",
   "execution_count": null,
   "id": "proud-treaty",
   "metadata": {
    "ExecuteTime": {
     "end_time": "2021-04-08T01:12:37.635238Z",
     "start_time": "2021-04-08T01:12:37.600254Z"
    },
    "scrolled": true
   },
   "outputs": [],
   "source": [
    "\n",
    "with tf.GradientTape() as tape:\n",
    "    tape.watch(x)\n",
    "    y = 2 * np.dot(x.T, x)\n",
    "y"
   ]
  },
  {
   "cell_type": "code",
   "execution_count": null,
   "id": "stunning-shark",
   "metadata": {
    "ExecuteTime": {
     "end_time": "2021-04-08T01:12:41.612463Z",
     "start_time": "2021-04-08T01:12:41.598470Z"
    }
   },
   "outputs": [],
   "source": [
    "x_grad = tape.gradient(y, x)\n",
    "x_grad"
   ]
  },
  {
   "cell_type": "code",
   "execution_count": null,
   "id": "sporting-employee",
   "metadata": {
    "ExecuteTime": {
     "end_time": "2021-04-08T01:16:49.458900Z",
     "start_time": "2021-04-08T01:16:49.411922Z"
    }
   },
   "outputs": [],
   "source": [
    "# 把所有计算记录在磁带上\n",
    "with tf.GradientTape() as tape:\n",
    "    tape.watch(x)\n",
    "    y = tf.reduce_sum(x)\n",
    "tape.gradient(y, x)  # 被新计算的梯度覆盖"
   ]
  },
  {
   "cell_type": "code",
   "execution_count": null,
   "id": "acoustic-mainland",
   "metadata": {
    "ExecuteTime": {
     "end_time": "2021-04-08T01:19:17.811801Z",
     "start_time": "2021-04-08T01:19:17.773817Z"
    }
   },
   "outputs": [],
   "source": [
    "x = np.arange(4, dtype=np.float32)\n",
    "\n",
    "# 把所有计算记录在磁带上\n",
    "with tf.GradientTape() as tape:\n",
    "    tape.watch(x)\n",
    "    y = x * x\n",
    "tape.gradient(y, x)  # 被新计算的梯度覆盖"
   ]
  },
  {
   "cell_type": "code",
   "execution_count": null,
   "id": "proof-literature",
   "metadata": {
    "ExecuteTime": {
     "end_time": "2021-04-08T01:17:59.112889Z",
     "start_time": "2021-04-08T01:17:59.101894Z"
    }
   },
   "outputs": [],
   "source": []
  },
  {
   "cell_type": "code",
   "execution_count": null,
   "id": "curious-korean",
   "metadata": {},
   "outputs": [],
   "source": []
  }
 ],
 "metadata": {
  "kernelspec": {
   "display_name": "TensorFlow",
   "language": "python",
   "name": "tensorflow"
  },
  "language_info": {
   "codemirror_mode": {
    "name": "ipython",
    "version": 3
   },
   "file_extension": ".py",
   "mimetype": "text/x-python",
   "name": "python",
   "nbconvert_exporter": "python",
   "pygments_lexer": "ipython3",
   "version": "3.8.5"
  },
  "toc": {
   "base_numbering": 1,
   "nav_menu": {},
   "number_sections": true,
   "sideBar": true,
   "skip_h1_title": false,
   "title_cell": "Table of Contents",
   "title_sidebar": "Contents",
   "toc_cell": false,
   "toc_position": {},
   "toc_section_display": true,
   "toc_window_display": false
  }
 },
 "nbformat": 4,
 "nbformat_minor": 5
}
