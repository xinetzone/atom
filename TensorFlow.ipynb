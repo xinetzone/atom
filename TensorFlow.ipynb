{
 "cells": [
  {
   "cell_type": "code",
   "execution_count": null,
   "id": "fdb82b1a",
   "metadata": {
    "ExecuteTime": {
     "end_time": "2021-04-08T06:13:55.445844Z",
     "start_time": "2021-04-08T06:13:49.502497Z"
    }
   },
   "outputs": [],
   "source": [
    "import tensorflow as tf\n",
    "\n",
    "tf.debugging.set_log_device_placement(True) # GPU\n",
    "\n",
    "from xint import utils\n",
    "from xint import tensorflow as xint\n",
    "\n",
    "np = xint.np"
   ]
  },
  {
   "cell_type": "raw",
   "id": "445eec81",
   "metadata": {
    "ExecuteTime": {
     "end_time": "2021-04-08T06:14:01.282747Z",
     "start_time": "2021-04-08T06:13:55.448843Z"
    },
    "scrolled": true
   },
   "source": [
    "train_iter, test_iter = xint.load_data_fashion_mnist(32, resize=64)\n",
    "for X, y in train_iter:\n",
    "    print(X.shape, X.dtype, y.shape, y.dtype)\n",
    "    break\n",
    "\n",
    "utils.show_images(X, 2, 9, titles=utils.get_fashion_mnist_labels(y));"
   ]
  },
  {
   "cell_type": "code",
   "execution_count": null,
   "id": "ef525b1e",
   "metadata": {
    "ExecuteTime": {
     "end_time": "2021-04-08T06:14:02.662132Z",
     "start_time": "2021-04-08T06:14:02.632146Z"
    },
    "scrolled": true
   },
   "outputs": [],
   "source": [
    "y = np.array([0, 2])\n",
    "y_hat = np.array([[0.1, 0.3, 0.6], \n",
    "                  [0.3, 0.2, 0.5]])\n",
    "y_hat[[0, 1], y]"
   ]
  },
  {
   "cell_type": "code",
   "execution_count": null,
   "id": "8f6834b6",
   "metadata": {},
   "outputs": [],
   "source": [
    "from tensorflow.keras.layers import Dense, Flatten, GlobalAvgPool2D\n",
    "from tensorflow.keras import Model, Sequential"
   ]
  },
  {
   "cell_type": "code",
   "execution_count": null,
   "id": "d2a5a722",
   "metadata": {},
   "outputs": [],
   "source": [
    "a = tf.data.Dataset.from_tensor_slices(y)"
   ]
  },
  {
   "cell_type": "code",
   "execution_count": 2,
   "id": "94359d0d",
   "metadata": {},
   "outputs": [],
   "source": [
    "import tensorflow_datasets as tfds\n",
    "\n",
    "root = '../datasets'\n",
    "train_dir = f'{root}/myData/train'\n",
    "val_dir = f'{root}/myData/validation'\n",
    "test_dir = f'{root}/myData/test'"
   ]
  },
  {
   "cell_type": "code",
   "execution_count": 4,
   "id": "d4bedc5f",
   "metadata": {},
   "outputs": [
    {
     "ename": "NameError",
     "evalue": "name 'train_dir' is not defined",
     "output_type": "error",
     "traceback": [
      "\u001b[1;31m---------------------------------------------------------------------------\u001b[0m",
      "\u001b[1;31mNameError\u001b[0m                                 Traceback (most recent call last)",
      "\u001b[1;32m<ipython-input-4-af9b0c240e12>\u001b[0m in \u001b[0;36m<module>\u001b[1;34m\u001b[0m\n\u001b[1;32m----> 1\u001b[1;33m \u001b[0mtfds\u001b[0m\u001b[1;33m.\u001b[0m\u001b[0mload\u001b[0m\u001b[1;33m(\u001b[0m\u001b[0mdata_dir\u001b[0m\u001b[1;33m=\u001b[0m\u001b[0mtrain_dir\u001b[0m\u001b[1;33m,\u001b[0m \u001b[0mdownload\u001b[0m\u001b[1;33m=\u001b[0m\u001b[1;32mFalse\u001b[0m\u001b[1;33m)\u001b[0m\u001b[1;33m\u001b[0m\u001b[1;33m\u001b[0m\u001b[0m\n\u001b[0m",
      "\u001b[1;31mNameError\u001b[0m: name 'train_dir' is not defined"
     ]
    }
   ],
   "source": []
  },
  {
   "cell_type": "code",
   "execution_count": null,
   "id": "11b49359",
   "metadata": {},
   "outputs": [],
   "source": []
  }
 ],
 "metadata": {
  "kernelspec": {
   "display_name": "tensorflow",
   "language": "python",
   "name": "tensorflow"
  },
  "language_info": {
   "codemirror_mode": {
    "name": "ipython",
    "version": 3
   },
   "file_extension": ".py",
   "mimetype": "text/x-python",
   "name": "python",
   "nbconvert_exporter": "python",
   "pygments_lexer": "ipython3",
   "version": "3.8.5"
  },
  "toc": {
   "base_numbering": 1,
   "nav_menu": {},
   "number_sections": true,
   "sideBar": true,
   "skip_h1_title": false,
   "title_cell": "Table of Contents",
   "title_sidebar": "Contents",
   "toc_cell": false,
   "toc_position": {},
   "toc_section_display": true,
   "toc_window_display": false
  }
 },
 "nbformat": 4,
 "nbformat_minor": 5
}
